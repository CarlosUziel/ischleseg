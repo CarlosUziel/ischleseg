{
 "cells": [
  {
   "cell_type": "code",
   "execution_count": 4,
   "metadata": {},
   "outputs": [],
   "source": [
    "#%% Imports\n",
    "import os\n",
    "import shutil\n",
    "import nibabel as nib\n",
    "import numpy as np\n",
    "import random\n",
    "import pickle\n",
    "from glob import glob\n",
    "from scipy import ndimage\n",
    "from nilearn.image import resample_to_img, resample_img\n",
    "from nilearn.masking import compute_background_mask, compute_epi_mask\n",
    "from nilearn.plotting import plot_roi, plot_epi"
   ]
  },
  {
   "cell_type": "code",
   "execution_count": 5,
   "metadata": {},
   "outputs": [],
   "source": [
    "# Set working directory\n",
    "os.chdir('/home/uziel/DISS')"
   ]
  },
  {
   "cell_type": "code",
   "execution_count": 6,
   "metadata": {},
   "outputs": [],
   "source": [
    "# load prediction\n",
    "root = './milestones_1/DM_V1_transfer_0/output/predictions/trainSession/predictions'\n",
    "root_2 = './data/ISLES2017/training'\n",
    "\n",
    "segms = sorted(glob(os.path.join(root, '*Segm.nii.gz')))\n",
    "prob_maps_class0 = sorted(glob(os.path.join(root, '*ProbMapClass0.nii.gz')))\n",
    "prob_maps_class1 = sorted(glob(os.path.join(root, '*ProbMapClass1.nii.gz')))\n",
    "segms_img = []\n",
    "\n",
    "# resize its prediction for final result validation\n",
    "for i in range(len(segms)):\n",
    "    # Find subject that contains the code in pred.\n",
    "    subject = sorted([y\n",
    "                      for x in os.walk(root_2)\n",
    "                      for y in glob(os.path.join(x[0], '*'))\n",
    "                      if segms[i].split('_')[-2] in y\n",
    "                     ])[0].split('/')[-2]\n",
    "    \n",
    "    subject_channels = sorted([y\n",
    "                               for x in os.walk(os.path.join(root_2, subject))\n",
    "                               for y in glob(os.path.join(x[0], '*MR_*.nii'))\n",
    "                               if '4DPWI' not in y\n",
    "                              ])\n",
    "    subject_label = sorted([y\n",
    "                            for x in os.walk(os.path.join(root_2, subject))\n",
    "                            for y in glob(os.path.join(x[0], '*OT*.nii'))\n",
    "                           ])\n",
    "    \n",
    "    # Load ADC channel as reference\n",
    "    original_img = nib.load(subject_channels[0])\n",
    "    \n",
    "    # load prediction\n",
    "    pred = nib.load(segms[i])\n",
    "    pmap_0 = nib.load(prob_maps_class0[i])\n",
    "    pmap_1 = nib.load(prob_maps_class1[i])\n",
    "    \n",
    "    # Upsample to original size\n",
    "    pred = resample_img(pred,\n",
    "                        original_img.affine,\n",
    "                        original_img.shape,\n",
    "                        interpolation='nearest')\n",
    "    pmap_0 = resample_img(pmap_0,\n",
    "                          original_img.affine,\n",
    "                          original_img.shape,\n",
    "                          interpolation='continuous')\n",
    "    pmap_1 = resample_img(pmap_1,\n",
    "                          original_img.affine,\n",
    "                          original_img.shape,\n",
    "                          interpolation='continuous')\n",
    "\n",
    "    segms_img.append([subject_channels, subject_label[0], pred, pmap_0, pmap_1])   "
   ]
  },
  {
   "cell_type": "code",
   "execution_count": 7,
   "metadata": {},
   "outputs": [
    {
     "ename": "TypeError",
     "evalue": "coercing to Unicode: need string or buffer, list found",
     "output_type": "error",
     "traceback": [
      "\u001b[0;31m---------------------------------------------------------------------------\u001b[0m",
      "\u001b[0;31mTypeError\u001b[0m                                 Traceback (most recent call last)",
      "\u001b[0;32m<ipython-input-7-ec4fdd8c471d>\u001b[0m in \u001b[0;36m<module>\u001b[0;34m()\u001b[0m\n\u001b[1;32m      2\u001b[0m \u001b[0;32mfor\u001b[0m \u001b[0msubject_channels\u001b[0m\u001b[0;34m,\u001b[0m \u001b[0msubject_label\u001b[0m\u001b[0;34m,\u001b[0m \u001b[0mpred\u001b[0m\u001b[0;34m,\u001b[0m \u001b[0mpmap_0\u001b[0m\u001b[0;34m,\u001b[0m \u001b[0mpmap_1\u001b[0m \u001b[0;32min\u001b[0m \u001b[0msegms_img\u001b[0m\u001b[0;34m:\u001b[0m\u001b[0;34m\u001b[0m\u001b[0m\n\u001b[1;32m      3\u001b[0m     \u001b[0moriginal_img\u001b[0m \u001b[0;34m=\u001b[0m \u001b[0mnib\u001b[0m\u001b[0;34m.\u001b[0m\u001b[0mload\u001b[0m\u001b[0;34m(\u001b[0m\u001b[0msubject_channels\u001b[0m\u001b[0;34m[\u001b[0m\u001b[0;36m0\u001b[0m\u001b[0;34m]\u001b[0m\u001b[0;34m)\u001b[0m\u001b[0;34m\u001b[0m\u001b[0m\n\u001b[0;32m----> 4\u001b[0;31m     \u001b[0mlabel\u001b[0m \u001b[0;34m=\u001b[0m \u001b[0mnib\u001b[0m\u001b[0;34m.\u001b[0m\u001b[0mload\u001b[0m\u001b[0;34m(\u001b[0m\u001b[0msubject_label\u001b[0m\u001b[0;34m)\u001b[0m\u001b[0;34m\u001b[0m\u001b[0m\n\u001b[0m\u001b[1;32m      5\u001b[0m \u001b[0;34m\u001b[0m\u001b[0m\n\u001b[1;32m      6\u001b[0m     \u001b[0mplot_roi\u001b[0m\u001b[0;34m(\u001b[0m\u001b[0mlabel\u001b[0m\u001b[0;34m,\u001b[0m \u001b[0moriginal_img\u001b[0m\u001b[0;34m)\u001b[0m\u001b[0;34m\u001b[0m\u001b[0m\n",
      "\u001b[0;32m/home/uziel/anaconda2/envs/diss/lib/python2.7/site-packages/nibabel/loadsave.pyc\u001b[0m in \u001b[0;36mload\u001b[0;34m(filename, **kwargs)\u001b[0m\n\u001b[1;32m     37\u001b[0m        \u001b[0mImage\u001b[0m \u001b[0mof\u001b[0m \u001b[0mguessed\u001b[0m \u001b[0mtype\u001b[0m\u001b[0;34m\u001b[0m\u001b[0m\n\u001b[1;32m     38\u001b[0m     '''\n\u001b[0;32m---> 39\u001b[0;31m     \u001b[0;32mif\u001b[0m \u001b[0;32mnot\u001b[0m \u001b[0mop\u001b[0m\u001b[0;34m.\u001b[0m\u001b[0mexists\u001b[0m\u001b[0;34m(\u001b[0m\u001b[0mfilename\u001b[0m\u001b[0;34m)\u001b[0m\u001b[0;34m:\u001b[0m\u001b[0;34m\u001b[0m\u001b[0m\n\u001b[0m\u001b[1;32m     40\u001b[0m         \u001b[0;32mraise\u001b[0m \u001b[0mFileNotFoundError\u001b[0m\u001b[0;34m(\u001b[0m\u001b[0;34m\"No such file: '%s'\"\u001b[0m \u001b[0;34m%\u001b[0m \u001b[0mfilename\u001b[0m\u001b[0;34m)\u001b[0m\u001b[0;34m\u001b[0m\u001b[0m\n\u001b[1;32m     41\u001b[0m     \u001b[0msniff\u001b[0m \u001b[0;34m=\u001b[0m \u001b[0mNone\u001b[0m\u001b[0;34m\u001b[0m\u001b[0m\n",
      "\u001b[0;32m/home/uziel/anaconda2/envs/diss/lib/python2.7/genericpath.pyc\u001b[0m in \u001b[0;36mexists\u001b[0;34m(path)\u001b[0m\n\u001b[1;32m     24\u001b[0m     \u001b[0;34m\"\"\"Test whether a path exists.  Returns False for broken symbolic links\"\"\"\u001b[0m\u001b[0;34m\u001b[0m\u001b[0m\n\u001b[1;32m     25\u001b[0m     \u001b[0;32mtry\u001b[0m\u001b[0;34m:\u001b[0m\u001b[0;34m\u001b[0m\u001b[0m\n\u001b[0;32m---> 26\u001b[0;31m         \u001b[0mos\u001b[0m\u001b[0;34m.\u001b[0m\u001b[0mstat\u001b[0m\u001b[0;34m(\u001b[0m\u001b[0mpath\u001b[0m\u001b[0;34m)\u001b[0m\u001b[0;34m\u001b[0m\u001b[0m\n\u001b[0m\u001b[1;32m     27\u001b[0m     \u001b[0;32mexcept\u001b[0m \u001b[0mos\u001b[0m\u001b[0;34m.\u001b[0m\u001b[0merror\u001b[0m\u001b[0;34m:\u001b[0m\u001b[0;34m\u001b[0m\u001b[0m\n\u001b[1;32m     28\u001b[0m         \u001b[0;32mreturn\u001b[0m \u001b[0mFalse\u001b[0m\u001b[0;34m\u001b[0m\u001b[0m\n",
      "\u001b[0;31mTypeError\u001b[0m: coercing to Unicode: need string or buffer, list found"
     ]
    }
   ],
   "source": [
    "# Plot original label and predicted label on top of original image\n",
    "for subject_channels, subject_label, pred, pmap_0, pmap_1 in segms_img:\n",
    "    original_img = nib.load(subject_channels[0])\n",
    "    label = nib.load(subject_label)\n",
    "\n",
    "    plot_roi(label, original_img)\n",
    "    plot_roi(pred, original_img)\n",
    "    #plot_roi(pmap_1, original_img)\n",
    "    #plot_roi(pmap_0, original_img)"
   ]
  },
  {
   "cell_type": "code",
   "execution_count": 30,
   "metadata": {},
   "outputs": [],
   "source": [
    "root = \"./milestones_1\"\n",
    "trained_models = sorted(glob(os.path.join(root, '*DM_V*[0-9]')))\n",
    "\n",
    "for model in trained_models:\n",
    "    # Plot and save training progress\n",
    "    os.system(\"python ischleseg/deepmedic/plotSaveTrainingProgress.py \" +\n",
    "              os.path.join(model, \"output/logs/trainSession.txt -d -m 20 -s\"))\n",
    "    # Move files to the corresponding model directory\n",
    "    os.system(\"mv trainingProgress.pdf \" + model)\n",
    "    os.system(\"mv trainingProgress.pkl \" + model)\n"
   ]
  },
  {
   "cell_type": "code",
   "execution_count": 31,
   "metadata": {},
   "outputs": [],
   "source": [
    "# Load \"measuredMetricsFromAllExperiments\"\n",
    "# 1st dimension: \"Validation\" (0), \"Training\" (1)\n",
    "# 2nd dimension: ? (0)\n",
    "# 3rd dimension: \"Mean Accuracy\" (0), \"Sensitivity\" (1), \"Specificity\" (2), \"DSC (samples)\" (3), \"DSC (full-segm)\" (4)\n",
    "\n",
    "metrics = {}\n",
    "for model in trained_models:\n",
    "    with open(os.path.join(model, \"trainingProgress.pkl\"), 'rb') as input:\n",
    "        metrics[os.path.basename(model)] = pickle.load(input)\n",
    "        \n",
    "# Use the metrics of all models to average results between same model variations\n",
    "# DM_V0_{0..9}, DM_V0_transfer_{0..9}, DM_V1_{1..9}, DM_V1_transfer_{1..9}\n"
   ]
  },
  {
   "cell_type": "code",
   "execution_count": null,
   "metadata": {},
   "outputs": [],
   "source": []
  }
 ],
 "metadata": {
  "kernelspec": {
   "display_name": "Python 2",
   "language": "python",
   "name": "python2"
  },
  "language_info": {
   "codemirror_mode": {
    "name": "ipython",
    "version": 2
   },
   "file_extension": ".py",
   "mimetype": "text/x-python",
   "name": "python",
   "nbconvert_exporter": "python",
   "pygments_lexer": "ipython2",
   "version": "2.7.15"
  }
 },
 "nbformat": 4,
 "nbformat_minor": 2
}
