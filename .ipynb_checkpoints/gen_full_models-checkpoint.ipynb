{
 "cells": [
  {
   "cell_type": "code",
   "execution_count": null,
   "metadata": {},
   "outputs": [],
   "source": [
    "import os\n",
    "import shutil\n",
    "import nibabel as nib\n",
    "import numpy as np\n",
    "import random\n",
    "from random import shuffle\n",
    "from glob import glob"
   ]
  },
  {
   "cell_type": "code",
   "execution_count": null,
   "metadata": {},
   "outputs": [],
   "source": [
    "# Set working directory\n",
    "os.chdir('/home/uziel/DISS')\n",
    "test_flag = 0"
   ]
  },
  {
   "cell_type": "code",
   "execution_count": null,
   "metadata": {},
   "outputs": [],
   "source": [
    "def data_to_file(data, path):\n",
    "    out = open(path, \"w\")\n",
    "    for line in data:\n",
    "        print >> out, line\n",
    "    out.close()"
   ]
  },
  {
   "cell_type": "code",
   "execution_count": null,
   "metadata": {},
   "outputs": [],
   "source": [
    "if test_flag:\n",
    "    root = './data_processed/ISLES2017/testing'\n",
    "else:\n",
    "    root = './data_processed/ISLES2017/training'\n",
    "\n",
    "channels = {}\n",
    "# channels - sequences os.path.join('../../../../../../', x) needed for deepmedic\n",
    "channels['Channels_ADC'] = sorted([os.path.join('../../../../../../', y)\n",
    "                                   for x in os.walk(root)\n",
    "                                   for y in glob(os.path.join(x[0], '*ADC*.nii.gz'))\n",
    "                                  ])\n",
    "channels['Channels_MTT'] = sorted([os.path.join('../../../../../../', y)\n",
    "                                   for x in os.walk(root)\n",
    "                                   for y in glob(os.path.join(x[0], '*MTT*.nii.gz'))\n",
    "                                  ])\n",
    "channels['Channels_rCBF'] = sorted([os.path.join('../../../../../../', y)\n",
    "                                    for x in os.walk(root)\n",
    "                                    for y in glob(os.path.join(x[0], '*rCBF*.nii.gz'))\n",
    "                                  ])\n",
    "channels['Channels_rCBV'] = sorted([os.path.join('../../../../../../', y)\n",
    "                                    for x in os.walk(root)\n",
    "                                    for y in glob(os.path.join(x[0], '*rCBV*.nii.gz'))\n",
    "                                  ])\n",
    "channels['Channels_Tmax'] = sorted([os.path.join('../../../../../../', y)\n",
    "                                    for x in os.walk(root)\n",
    "                                    for y in glob(os.path.join(x[0], '*Tmax*.nii.gz'))\n",
    "                                  ])\n",
    "channels['Channels_TTP'] = sorted([os.path.join('../../../../../../', y)\n",
    "                                   for x in os.walk(root)\n",
    "                                   for y in glob(os.path.join(x[0], '*TTP*.nii.gz'))\n",
    "                                  ])\n",
    "# labels\n",
    "channels['GtLabels'] = sorted([os.path.join('../../../../../../', y)\n",
    "                               for x in os.walk(root)\n",
    "                               for y in glob(os.path.join(x[0], '*OT*.nii.gz'))\n",
    "                              ])\n",
    "# masks\n",
    "channels['RoiMasks'] = sorted([os.path.join('../../../../../../', y)\n",
    "                               for x in os.walk(root)\n",
    "                               for y in glob(os.path.join(x[0], '*mask.nii.gz'))\n",
    "                              ])"
   ]
  },
  {
   "cell_type": "code",
   "execution_count": null,
   "metadata": {},
   "outputs": [],
   "source": [
    "#############################################\n",
    "##### FILES FOR DM_VF (AUGMENTED DATA) ######\n",
    "#############################################\n",
    "if test_flag:\n",
    "    data_set = 'test'\n",
    "else:\n",
    "    data_set = 'train'\n",
    "\n",
    "s_path = './ischleseg/deepmedic/versions/DM_VF'\n",
    "data_set_path = os.path.join(s_path, 'configFiles/' + data_set)\n",
    "\n",
    "for name, files in channels.iteritems():\n",
    "    # save train channel files\n",
    "    data_to_file(files, os.path.join(data_set_path, data_set + name + '.cfg'))\n",
    "    \n",
    "if test_flag:\n",
    "    names = ['SMIR.ischleseg_' + 'DM_VF' + '.' + os.path.basename(x).split('.')[-3]\n",
    "             for x in channels['Channels_MTT']]\n",
    "    data_to_file(names, os.path.join(data_set_path, 'testNamesOfPredictions.cfg'))"
   ]
  },
  {
   "cell_type": "code",
   "execution_count": null,
   "metadata": {},
   "outputs": [],
   "source": []
  }
 ],
 "metadata": {
  "kernelspec": {
   "display_name": "Python 2",
   "language": "python",
   "name": "python2"
  },
  "language_info": {
   "codemirror_mode": {
    "name": "ipython",
    "version": 2
   },
   "file_extension": ".py",
   "mimetype": "text/x-python",
   "name": "python",
   "nbconvert_exporter": "python",
   "pygments_lexer": "ipython2",
   "version": "2.7.15"
  }
 },
 "nbformat": 4,
 "nbformat_minor": 2
}
