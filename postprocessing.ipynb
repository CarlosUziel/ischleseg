{
 "cells": [
  {
   "cell_type": "code",
   "execution_count": 28,
   "metadata": {},
   "outputs": [],
   "source": [
    "#%% Imports\n",
    "import os\n",
    "import shutil\n",
    "import nibabel as nib\n",
    "import numpy as np\n",
    "from glob import glob\n",
    "from scipy import ndimage\n",
    "from nilearn.image import resample_to_img, resample_img\n",
    "from nilearn.masking import compute_background_mask, compute_epi_mask\n",
    "from nilearn.plotting import plot_roi, plot_epi"
   ]
  },
  {
   "cell_type": "code",
   "execution_count": 29,
   "metadata": {},
   "outputs": [],
   "source": [
    "# Load all predictions\n",
    "\n",
    "# For each prediction\n",
    "# Upsample to original size after MNI resampling\n",
    "# Resample to original shape"
   ]
  },
  {
   "cell_type": "code",
   "execution_count": 30,
   "metadata": {},
   "outputs": [],
   "source": [
    "# load prediction\n",
    "root = '/home/uziel/DISS/milestones/DM_V1/output/predictions/trainSession_DM_V1/predictions'\n",
    "root_2 = '/home/uziel/DISS/data_processed/ISLES2017/training'\n",
    "segms = glob(os.path.join(root, '*Segm.nii.gz'))\n",
    "segms_img = []\n",
    "for s in segms:\n",
    "    # load prediction\n",
    "    pred = nib.load(s)\n",
    "    # Upsample to original size after MNI resampling\n",
    "    pred = resample_img(pred,\n",
    "                        2*pred.affine/3, [3*x/2 for x in pred.shape],\n",
    "                        interpolation='nearest')\n",
    "    # Find and load original image\n",
    "    original_path = glob(os.path.join(os.path.join(root_2, s.split('_')[-2]), '*ADC*'))[0]\n",
    "    original_img = nib.load(original_path)\n",
    "    # Resample to original shape\n",
    "    pred = resample_to_img(pred, original_img, interpolation='nearest')\n",
    "\n",
    "    segms_img.append(pred)\n",
    "    "
   ]
  },
  {
   "cell_type": "code",
   "execution_count": 31,
   "metadata": {},
   "outputs": [
    {
     "data": {
      "text/plain": [
       "<nilearn.plotting.displays.OrthoSlicer at 0x7f0470af46d0>"
      ]
     },
     "execution_count": 31,
     "metadata": {},
     "output_type": "execute_result"
    },
    {
     "data": {
      "image/png": "[encoded data removed]",
      "text/plain": [
       "<Figure size 475.2x187.2 with 4 Axes>"
      ]
     },
     "metadata": {},
     "output_type": "display_data"
    }
   ],
   "source": [
    "plot_epi(pred)"
   ]
  },
  {
   "cell_type": "code",
   "execution_count": null,
   "metadata": {},
   "outputs": [],
   "source": []
  }
 ],
 "metadata": {
  "kernelspec": {
   "display_name": "Python 2",
   "language": "python",
   "name": "python2"
  },
  "language_info": {
   "codemirror_mode": {
    "name": "ipython",
    "version": 2
   },
   "file_extension": ".py",
   "mimetype": "text/x-python",
   "name": "python",
   "nbconvert_exporter": "python",
   "pygments_lexer": "ipython2",
   "version": "2.7.15"
  }
 },
 "nbformat": 4,
 "nbformat_minor": 2
}
