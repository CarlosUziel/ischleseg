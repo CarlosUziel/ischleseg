{
 "cells": [
  {
   "cell_type": "code",
   "execution_count": 1,
   "metadata": {},
   "outputs": [
    {
     "name": "stderr",
     "output_type": "stream",
     "text": [
      "/home/uziel/miniconda2/envs/diss/lib/python2.7/site-packages/h5py/__init__.py:36: FutureWarning: Conversion of the second argument of issubdtype from `float` to `np.floating` is deprecated. In future, it will be treated as `np.float64 == np.dtype(float).type`.\n",
      "  from ._conv import register_converters as _register_converters\n"
     ]
    }
   ],
   "source": [
    "#%% Imports\n",
    "import os\n",
    "import shutil\n",
    "import nibabel as nib\n",
    "import numpy as np\n",
    "from glob import glob\n",
    "from scipy import ndimage\n",
    "from nilearn.image import resample_to_img\n",
    "from nilearn.masking import compute_background_mask, compute_epi_mask\n",
    "from nilearn.plotting import plot_roi"
   ]
  },
  {
   "cell_type": "code",
   "execution_count": 2,
   "metadata": {},
   "outputs": [],
   "source": [
    "#%% Set current directory\n",
    "os.chdir('/home/uziel/DISS') # linux\n",
    "test_flag = 1"
   ]
  },
  {
   "cell_type": "code",
   "execution_count": 3,
   "metadata": {},
   "outputs": [],
   "source": [
    "#%% List all sequences per subject\n",
    "# linux\n",
    "if test_flag:\n",
    "    root = './data/ISLES2017/testing'\n",
    "else:\n",
    "    root = './data/ISLES2017/training'\n",
    "\n",
    "subjects_paths = sorted(os.listdir(root))\n",
    "channels_per_subject = dict() # groups relevant sequences per subject\n",
    "for i in range(len(subjects_paths)):\n",
    "    s_path = os.path.join(root, subjects_paths[i])\n",
    "    channels_per_subject[i] = [y for x in os.walk(s_path) for y in\n",
    "                        glob(os.path.join(x[0], '*ADC*.nii')) or\n",
    "                        glob(os.path.join(x[0], '*MTT*.nii')) or\n",
    "                        glob(os.path.join(x[0], '*rCBF*.nii')) or\n",
    "                        glob(os.path.join(x[0], '*rCBV*.nii')) or\n",
    "                        glob(os.path.join(x[0], '*Tmax*.nii')) or\n",
    "                        glob(os.path.join(x[0], '*TTP*.nii')) or\n",
    "                        glob(os.path.join(x[0], '*OT*.nii'))]\n"
   ]
  },
  {
   "cell_type": "code",
   "execution_count": null,
   "metadata": {},
   "outputs": [
    {
     "name": "stderr",
     "output_type": "stream",
     "text": [
      "/home/uziel/miniconda2/envs/diss/lib/python2.7/site-packages/nilearn/image/resampling.py:518: UserWarning: Casting data from int16 to float32\n",
      "  warnings.warn(\"Casting data from %s to %s\" % (data.dtype.name, aux))\n"
     ]
    }
   ],
   "source": [
    "#%% Resample images to same shape and voxel size\n",
    "# linux\n",
    "if test_flag:\n",
    "    root = './data_processed/ISLES2017/testing'\n",
    "else:\n",
    "    root = './data_processed/ISLES2017/training'\n",
    "\n",
    "template_path = './data/MNI152_T1_1mm_brain.nii.gz'\n",
    "\n",
    "# remove and create dir for processed data\n",
    "if os.path.exists(root): shutil.rmtree(root)\n",
    "os.makedirs(root)\n",
    "\n",
    "# load template image\n",
    "template = nib.load(template_path)\n",
    "\n",
    "for subject in channels_per_subject.keys():\n",
    "    # create subdirectory per subject\n",
    "    subject_root = os.path.join(root, str(subject))\n",
    "    os.mkdir(subject_root)\n",
    "    \n",
    "    subject_imgs = []\n",
    "    for channel_file in channels_per_subject[subject]:\n",
    "        img = nib.load(channel_file)\n",
    "        # Resample img to match template\n",
    "        resampled_img = resample_to_img(img, template)\n",
    "        subject_imgs.append([resampled_img, channel_file])\n",
    "        \n",
    "    # compute subject brain mask given all channels (ignore label channel)\n",
    "    mask = compute_epi_mask([x for x,y in subject_imgs if not \"OT\" in y])\n",
    "    # dilate mask to \"fill holes\"\n",
    "    dilated_mask_data = ndimage.binary_dilation(mask.dataobj)\n",
    "    mask = nib.nifti1.Nifti1Image(dilated_mask_data.astype(np.int32), mask.affine)\n",
    "    # save mask\n",
    "    nib.save(mask, os.path.join(subject_root, 'mask.nii.gz'))\n",
    "    \n",
    "    # normalize each image within mask and save\n",
    "    for img, channel_file in subject_imgs:\n",
    "        # don't try to normalize label channel\n",
    "        if \"OT\" not in channel_file:\n",
    "            # get data within mask\n",
    "            temp_data = img.dataobj * mask.dataobj\n",
    "            # compute mean and variance of non-zero values\n",
    "            mean = np.mean(temp_data[np.nonzero(temp_data)])\n",
    "            var = np.var(temp_data[np.nonzero(temp_data)])\n",
    "            # substract mean and divide by variance all non-zero valuess\n",
    "            temp_data[np.nonzero(temp_data)] = (temp_data[np.nonzero(temp_data)] - mean) / var\n",
    "            # build normalised image with normalised data and unmodified affine\n",
    "            img = nib.nifti1.Nifti1Image(temp_data.astype(np.float32), img.affine)\n",
    "        else:\n",
    "            img = nib.nifti1.Nifti1Image(img.dataobj.astype(np.float32), img.affine)\n",
    "        \n",
    "        # save image\n",
    "        file_name = os.path.basename(channel_file)\n",
    "        nib.save(img, os.path.join(subject_root, file_name) + '.gz')\n"
   ]
  },
  {
   "cell_type": "code",
   "execution_count": null,
   "metadata": {},
   "outputs": [],
   "source": [
    "def data_to_file(data, path):\n",
    "    out = open(path, \"w\")\n",
    "    for line in data:\n",
    "        print >> out, line\n",
    "    out.close()"
   ]
  },
  {
   "cell_type": "code",
   "execution_count": null,
   "metadata": {},
   "outputs": [],
   "source": [
    "##### FILES FOR BASELINE EXPERIMENT\n",
    "#%% Generate files listing all images per channel\n",
    "# linux\n",
    "if test_flag:\n",
    "    root = './data_processed/ISLES2017/testing'\n",
    "else:\n",
    "    root = './data_processed/ISLES2017/training'\n",
    "    \n",
    "channels = {}\n",
    "# channels - sequences os.path.join('../../../../../../', x) needed for deepmedic\n",
    "channels['Channels_ADC'] = [os.path.join('../../../../../../', y) for x in os.walk(root)\n",
    "                            for y in glob(os.path.join(x[0], '*ADC*.nii.gz'))]\n",
    "channels['Channels_MTT'] = [os.path.join('../../../../../../', y) for x in os.walk(root)\n",
    "                            for y in glob(os.path.join(x[0], '*MTT*.nii.gz'))]\n",
    "channels['Channels_rCBF'] = [os.path.join('../../../../../../', y) for x in os.walk(root)\n",
    "                             for y in glob(os.path.join(x[0], '*rCBF*.nii.gz'))]\n",
    "channels['Channels_rCBV'] = [os.path.join('../../../../../../', y) for x in os.walk(root)\n",
    "                             for y in glob(os.path.join(x[0], '*rCBV*.nii.gz'))]\n",
    "channels['Channels_Tmax'] = [os.path.join('../../../../../../', y) for x in os.walk(root)\n",
    "                             for y in glob(os.path.join(x[0], '*Tmax*.nii.gz'))]\n",
    "channels['Channels_TTP'] = [os.path.join('../../../../../../', y) for x in os.walk(root)\n",
    "                            for y in glob(os.path.join(x[0], '*TTP*.nii.gz'))]\n",
    "# labels\n",
    "channels['GtLabels'] = [os.path.join('../../../../../../', y) for x in os.walk(root) for y in glob(os.path.join(x[0], '*OT*.nii.gz'))]\n",
    "# masks\n",
    "channels['RoiMasks'] = [os.path.join('../../../../../../', y) for x in os.walk(root) for y in glob(os.path.join(x[0], 'mask.nii.gz'))]\n",
    "\n",
    "if test_flag:\n",
    "    # set paths for storing channel config files\n",
    "    test_path = './ischleseg/deepmedic/experiments/baseline/configFiles/test'\n",
    "    if not os.path.exists(test_path): os.makedirs(test_path)\n",
    "    for name, files in channels.iteritems():\n",
    "        # save test channel files\n",
    "        data_to_file(files, os.path.join(test_path, 'test' + name + '.cfg'))\n",
    "        \n",
    "    # save names of predictions\n",
    "    names = ['pred_ISLES2017_' + os.path.split(os.path.dirname(x))[1] + '_nii.gz' for x in channels['Channels_ADC']]\n",
    "    data_to_file(names, os.path.join(test_path, 'testNamesOfPredictions.cfg'))\n",
    "else:\n",
    "    # set paths for storing channel config files\n",
    "    train_path = './ischleseg/deepmedic/experiments/baseline/configFiles/train'\n",
    "    validation_path = './ischleseg/deepmedic/experiments/baseline/configFiles/validation'\n",
    "\n",
    "    if not os.path.exists(train_path): os.makedirs(train_path)\n",
    "    if not os.path.exists(validation_path): os.makedirs(validation_path)\n",
    "\n",
    "    # train and validation division point\n",
    "    train_val_divison = int(np.floor(len(channels['Channels_ADC']) * 0.8))\n",
    "\n",
    "    for name, files in channels.iteritems():\n",
    "        # save train channel files\n",
    "        data_to_file(files[:train_val_divison], os.path.join(train_path, 'train' + name + '.cfg'))\n",
    "        # save validation channel files\n",
    "        data_to_file(files[train_val_divison:], os.path.join(validation_path, 'validation' + name + '.cfg'))\n",
    "\n",
    "\n",
    "    # save names of predictions\n",
    "    names = ['pred_ISLES2017_' + os.path.split(os.path.dirname(x))[1] + '_nii.gz' for x in channels['Channels_ADC']]\n",
    "    data_to_file(names, os.path.join(validation_path, 'validationNamesOfPredictions.cfg'))\n"
   ]
  },
  {
   "cell_type": "code",
   "execution_count": null,
   "metadata": {},
   "outputs": [],
   "source": [
    "# load image\n",
    "img = nib.load('/home/uziel/DISS/data_processed/ISLES2017/training/23/VSD.Brain.XX.O.MR_ADC.128043.nii.gz')\n",
    "# load label\n",
    "label = nib.load('/home/uziel/DISS/data_processed/ISLES2017/training/23/VSD.Brain.XX.O.OT.128073.nii.gz')\n",
    "# plot\n",
    "plot_roi(label, img)\n",
    "\n",
    "# load mask \n",
    "mask = nib.load('/home/uziel/DISS/data_processed/ISLES2017/training/23/mask.nii.gz')\n",
    "plot_roi(mask, img)"
   ]
  },
  {
   "cell_type": "code",
   "execution_count": null,
   "metadata": {},
   "outputs": [],
   "source": [
    "# load image\n",
    "my_img = nib.load('/home/uziel/DISS/data_processed/ISLES2017/training/23/VSD.Brain.XX.O.MR_ADC.128043.nii.gz')\n",
    "# load image\n",
    "his_img = nib.load('/home/uziel/DISS/ischleseg/deepmedic/examples/dataForExamples/brats2015TrainingData/train/brats_2013_pat0005_1/Flair_subtrMeanDivStd.nii.gz')"
   ]
  },
  {
   "cell_type": "code",
   "execution_count": null,
   "metadata": {},
   "outputs": [],
   "source": [
    "# test 1\n",
    "his_img = nib.load('/home/uziel/DISS/ischleseg/deepmedic/examples/dataForExamples/brats2015TrainingData/train/brats_2013_pat0005_1/Flair_subtrMeanDivStd.nii.gz')\n",
    "\n",
    "img1 = nib.load('/home/uziel/DISS/data_processed/ISLES2017/training/23/VSD.Brain.XX.O.MR_ADC.128043.nii.gz')\n",
    "img2 = nib.load('/home/uziel/DISS/data_processed/ISLES2017/training/23/VSD.Brain.XX.O.MR_rCBF.127200.nii.gz')\n",
    "label = nib.load('/home/uziel/DISS/data_processed/ISLES2017/training/23/VSD.Brain.XX.O.OT.128073.nii.gz')\n",
    "mask = nib.load('/home/uziel/DISS/data_processed/ISLES2017/training/23/mask.nii.gz')"
   ]
  },
  {
   "cell_type": "code",
   "execution_count": null,
   "metadata": {},
   "outputs": [],
   "source": [
    "# test 2\n",
    "his_img = nib.load('/home/uziel/DISS/ischleseg/deepmedic/examples/dataForExamples/brats2015TrainingData/train/brats_2013_pat0006_1/Flair_subtrMeanDivStd.nii.gz')\n",
    "\n",
    "img1 = nib.load('/home/uziel/DISS/data_processed/ISLES2017/training/10/VSD.Brain.XX.O.MR_ADC.128030.nii.gz')\n",
    "img2 = nib.load('/home/uziel/DISS/data_processed/ISLES2017/training/10/VSD.Brain.XX.O.MR_MTT.127094.nii.gz')\n",
    "label = nib.load('/home/uziel/DISS/data_processed/ISLES2017/training/10/VSD.Brain.XX.O.OT.128060.nii.gz')\n",
    "mask = nib.load('/home/uziel/DISS/data_processed/ISLES2017/training/10/mask.nii.gz')"
   ]
  },
  {
   "cell_type": "code",
   "execution_count": null,
   "metadata": {},
   "outputs": [],
   "source": [
    "his_label = nib.load('/home/uziel/DISS/ischleseg/deepmedic/examples/dataForExamples/brats2015TrainingData/train/brats_2013_pat0006_1/OTMultiClass.nii.gz')\n",
    "his_mask = nib.load('/home/uziel/DISS/ischleseg/deepmedic/examples/dataForExamples/brats2015TrainingData/train/brats_2013_pat0006_1/brainmask.nii.gz')\n",
    "\n",
    "label = nib.load('/home/uziel/DISS/data_processed/ISLES2017/training/10/VSD.Brain.XX.O.OT.128060.nii.gz')\n",
    "mask = nib.load('/home/uziel/DISS/data_processed/ISLES2017/training/10/mask.nii.gz')"
   ]
  },
  {
   "cell_type": "code",
   "execution_count": null,
   "metadata": {},
   "outputs": [],
   "source": [
    "for files in channels.values():\n",
    "    for file in files:\n",
    "        img = nib.load(file[18:])\n",
    "        print(img.shape, img.get_data_dtype())"
   ]
  },
  {
   "cell_type": "code",
   "execution_count": null,
   "metadata": {},
   "outputs": [],
   "source": []
  }
 ],
 "metadata": {
  "kernelspec": {
   "display_name": "Python 2",
   "language": "python",
   "name": "python2"
  },
  "language_info": {
   "codemirror_mode": {
    "name": "ipython",
    "version": 2
   },
   "file_extension": ".py",
   "mimetype": "text/x-python",
   "name": "python",
   "nbconvert_exporter": "python",
   "pygments_lexer": "ipython2",
   "version": "2.7.15"
  }
 },
 "nbformat": 4,
 "nbformat_minor": 2
}
