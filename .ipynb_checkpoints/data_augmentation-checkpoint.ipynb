{
 "cells": [
  {
   "cell_type": "code",
   "execution_count": 1,
   "metadata": {},
   "outputs": [
    {
     "name": "stderr",
     "output_type": "stream",
     "text": [
      "/home/uziel/miniconda2/envs/diss/lib/python2.7/site-packages/h5py/__init__.py:36: FutureWarning: Conversion of the second argument of issubdtype from `float` to `np.floating` is deprecated. In future, it will be treated as `np.float64 == np.dtype(float).type`.\n",
      "  from ._conv import register_converters as _register_converters\n"
     ]
    }
   ],
   "source": [
    "# Imports\n",
    "import os\n",
    "import shutil\n",
    "import nibabel as nib\n",
    "import numpy as np\n",
    "import random\n",
    "from glob import glob"
   ]
  },
  {
   "cell_type": "code",
   "execution_count": 2,
   "metadata": {},
   "outputs": [],
   "source": [
    "# Set current directory\n",
    "os.chdir('/home/uziel/DISS/ischleseg/deepmedic/versions/DM_V1/configFiles/train')"
   ]
  },
  {
   "cell_type": "code",
   "execution_count": 3,
   "metadata": {},
   "outputs": [],
   "source": [
    "# Load entries from training files\n",
    "training_files_entries = [[line.strip() for line in open(x, 'r')]\n",
    "                          for x in os.listdir('.')\n",
    "                          if 'Config' not in x]"
   ]
  },
  {
   "cell_type": "code",
   "execution_count": 4,
   "metadata": {},
   "outputs": [],
   "source": [
    "# Assign entries to corresponding subject\n",
    "subjects_entries = {i:[x[i] for x in training_files_entries]\n",
    "                   for i in range(len(training_files_entries[0]))}"
   ]
  },
  {
   "cell_type": "code",
   "execution_count": 5,
   "metadata": {},
   "outputs": [
    {
     "name": "stdout",
     "output_type": "stream",
     "text": [
      "Subject 0 finished.\n",
      "Subject 1 finished.\n",
      "Subject 2 finished.\n",
      "Subject 3 finished.\n",
      "Subject 4 finished.\n",
      "Subject 5 finished.\n",
      "Subject 6 finished.\n",
      "Subject 7 finished.\n",
      "Subject 8 finished.\n",
      "Subject 9 finished.\n",
      "Subject 10 finished.\n",
      "Subject 11 finished.\n",
      "Subject 12 finished.\n",
      "Subject 13 finished.\n",
      "Subject 14 finished.\n",
      "Subject 15 finished.\n",
      "Subject 16 finished.\n",
      "Subject 17 finished.\n",
      "Subject 18 finished.\n",
      "Subject 19 finished.\n",
      "Subject 20 finished.\n",
      "Subject 21 finished.\n",
      "Subject 22 finished.\n",
      "Subject 23 finished.\n",
      "Subject 24 finished.\n",
      "Subject 25 finished.\n",
      "Subject 26 finished.\n",
      "Subject 27 finished.\n",
      "Subject 28 finished.\n",
      "Subject 29 finished.\n",
      "Subject 30 finished.\n",
      "Subject 31 finished.\n",
      "Subject 32 finished.\n",
      "Subject 33 finished.\n"
     ]
    }
   ],
   "source": [
    "# For each subjec, create n new ones (default=1),\n",
    "# whose lesion region is randomly sampled.\n",
    "clones_number = 1\n",
    "for subject, entries in subjects_entries.items():\n",
    "    channels = [x for x in entries if \"OT\" not in x and \"mask\" not in x]\n",
    "    mask = [x for x in entries if \"mask\" in x]    \n",
    "    label = [x for x in entries if \"OT\" in x]\n",
    "    subject_path = os.path.dirname(channels[0])\n",
    "    \n",
    "    # create new clones\n",
    "    for i in range(clones_number):\n",
    "        label_img = nib.load(label[0])\n",
    "        label_data = label_img.get_data()\n",
    "        # create path to save clone data\n",
    "        clone_path = os.path.join(subject_path, 'clone_V2_'+ str(i))\n",
    "        if os.path.exists(clone_path): shutil.rmtree(clone_path)\n",
    "        os.makedirs(clone_path)\n",
    "        # create each clone channel\n",
    "        for j in range(len(channels)):\n",
    "            channel_img = nib.load(channels[j])\n",
    "            channel_data = channel_img.get_data().copy()\n",
    "            # get data withing roi (label)\n",
    "            roi_data = channel_data[np.nonzero(label_data)]\n",
    "            # new data follows gaussian distribution\n",
    "            mean_value, std_value = [np.mean(roi_data), np.std(roi_data)]\n",
    "            channel_data[np.nonzero(label_data)] = np.array([random.gauss(mean_value, std_value)\n",
    "                                                             for _ in range(roi_data.shape[0])])\n",
    "            # create modified channel for clone\n",
    "            modified_channel = nib.Nifti1Image(channel_data, channel_img.affine)\n",
    "            #TODO: Normalize image?\n",
    "            # save clone channel\n",
    "            channel_name = os.path.basename(channels[j])\n",
    "            nib.save(modified_channel, os.path.join(clone_path, 'clone_V2_' + str(i) + '.' + channel_name))\n",
    "        \n",
    "        # save unaltered label for clone\n",
    "        label_name = os.path.basename(label[0])\n",
    "        nib.save(label_img, os.path.join(clone_path, 'clone_V2_' + str(i) + '.' + label_name))\n",
    "        #save unaltered mask for clone\n",
    "        mask_img = nib.load(mask[0])\n",
    "        mask_name = os.path.basename(mask[0])\n",
    "        nib.save(mask_img, os.path.join(clone_path, 'clone_V2_' + str(i) + '.' + mask_name))\n",
    "\n",
    "    print(\"Subject \" + str(subject) + \" finished.\")\n",
    "            "
   ]
  },
  {
   "cell_type": "code",
   "execution_count": 6,
   "metadata": {},
   "outputs": [],
   "source": [
    "def data_to_file(data, path):\n",
    "    out = open(path, \"w\")\n",
    "    for line in data:\n",
    "        print >> out, line\n",
    "    out.close()"
   ]
  },
  {
   "cell_type": "code",
   "execution_count": 7,
   "metadata": {},
   "outputs": [],
   "source": [
    "###############################################################\n",
    "##### FILES FOR DM_V2 (BASELINE + RANDOM LESION SAMPLING) #####\n",
    "###############################################################\n",
    "\n",
    "# Get training subjects\n",
    "subject_list = [os.path.split(os.path.dirname(x[0]))[1] for x in subjects_entries.values()]\n",
    "subject_list.append('clone_V2_0') #add clone subdir name\n",
    "#%% Generate files listing all images per channel\n",
    "os.chdir('/home/uziel/DISS')\n",
    "root = './data_processed/ISLES2017/training'\n",
    "\n",
    "# copy configFiles from DM_V1 (baseline)\n",
    "config_path = './ischleseg/deepmedic/versions/DM_V1/configFiles'\n",
    "new_config_path = './ischleseg/deepmedic/versions/DM_V2/configFiles'\n",
    "if os.path.exists(new_config_path): shutil.rmtree(new_config_path)\n",
    "shutil.copytree(config_path, new_config_path)\n",
    "\n",
    "channels = {}\n",
    "# channels - sequences os.path.join('../../../../../../', x) needed for deepmedic\n",
    "channels['Channels_ADC'] = [os.path.join('../../../../../../', y) for x in os.walk(root)\n",
    "                            for y in glob(os.path.join(x[0], '*ADC*.nii.gz'))\n",
    "                           if os.path.basename(x[0]) in subject_list]\n",
    "channels['Channels_MTT'] = [os.path.join('../../../../../../', y) for x in os.walk(root)\n",
    "                            for y in glob(os.path.join(x[0], '*MTT*.nii.gz'))\n",
    "                           if os.path.basename(x[0]) in subject_list]\n",
    "channels['Channels_rCBF'] = [os.path.join('../../../../../../', y) for x in os.walk(root)\n",
    "                             for y in glob(os.path.join(x[0], '*rCBF*.nii.gz'))\n",
    "                           if os.path.basename(x[0]) in subject_list]\n",
    "channels['Channels_rCBV'] = [os.path.join('../../../../../../', y) for x in os.walk(root)\n",
    "                             for y in glob(os.path.join(x[0], '*rCBV*.nii.gz'))\n",
    "                           if os.path.basename(x[0]) in subject_list]\n",
    "channels['Channels_Tmax'] = [os.path.join('../../../../../../', y) for x in os.walk(root)\n",
    "                             for y in glob(os.path.join(x[0], '*Tmax*.nii.gz'))\n",
    "                           if os.path.basename(x[0]) in subject_list]\n",
    "channels['Channels_TTP'] = [os.path.join('../../../../../../', y) for x in os.walk(root)\n",
    "                            for y in glob(os.path.join(x[0], '*TTP*.nii.gz'))\n",
    "                           if os.path.basename(x[0]) in subject_list]\n",
    "# labels\n",
    "channels['GtLabels'] = [os.path.join('../../../../../../', y) for x in os.walk(root)\n",
    "                        for y in glob(os.path.join(x[0], '*OT*.nii.gz'))\n",
    "                           if os.path.basename(x[0]) in subject_list]\n",
    "# masks\n",
    "channels['RoiMasks'] = [os.path.join('../../../../../../', y) for x in os.walk(root)\n",
    "                        for y in glob(os.path.join(x[0], '*mask.nii.gz'))\n",
    "                           if os.path.basename(x[0]) in subject_list]\n",
    "\n",
    "train_path = './ischleseg/deepmedic/versions/DM_V2/configFiles/train'\n",
    "for name, files in channels.iteritems():\n",
    "    # save train channel files\n",
    "    data_to_file(files, os.path.join(train_path, 'train' + name + '.cfg'))\n"
   ]
  },
  {
   "cell_type": "code",
   "execution_count": null,
   "metadata": {},
   "outputs": [],
   "source": []
  }
 ],
 "metadata": {
  "kernelspec": {
   "display_name": "Python 2",
   "language": "python",
   "name": "python2"
  },
  "language_info": {
   "codemirror_mode": {
    "name": "ipython",
    "version": 2
   },
   "file_extension": ".py",
   "mimetype": "text/x-python",
   "name": "python",
   "nbconvert_exporter": "python",
   "pygments_lexer": "ipython2",
   "version": "2.7.15"
  }
 },
 "nbformat": 4,
 "nbformat_minor": 2
}
