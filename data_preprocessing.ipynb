{
 "cells": [
  {
   "cell_type": "code",
   "execution_count": 21,
   "metadata": {},
   "outputs": [],
   "source": [
    "#%% Imports\n",
    "import os\n",
    "import shutil\n",
    "import nibabel as nib\n",
    "from glob import glob\n",
    "from nilearn.image import resample_to_img\n",
    "from nilearn.masking import compute_background_mask\n",
    "from nilearn.plotting import plot_roi"
   ]
  },
  {
   "cell_type": "code",
   "execution_count": 5,
   "metadata": {},
   "outputs": [],
   "source": [
    "#%% Set current directory\n",
    "#os.chdir('/home/uziel/DISS/ischleseg') # linux\n",
    "os.chdir('C:\\Users\\Carlos Uziel\\Documents\\DISS\\ischleseg') # windows"
   ]
  },
  {
   "cell_type": "code",
   "execution_count": 6,
   "metadata": {},
   "outputs": [],
   "source": [
    "#%% List all sequences per subject\n",
    "#root = '/home/uziel/DISS/data/Training' # linux\n",
    "root = 'C:\\Users\\Carlos Uziel\\Documents\\DISS\\data\\Training' # windows\n",
    "\n",
    "subjects_paths = sorted(os.listdir(root))\n",
    "channels_per_subject = dict() # groups relevant sequences per subject\n",
    "for i in range(len(subjects_paths)):\n",
    "    s_path = os.path.join(root, subjects_paths[i])\n",
    "    channels_per_subject[i] = [y for x in os.walk(s_path) for y in\n",
    "                        glob(os.path.join(x[0], '*ADC*.nii')) or\n",
    "                        glob(os.path.join(x[0], '*MTT*.nii')) or\n",
    "                        glob(os.path.join(x[0], '*rCBF*.nii')) or\n",
    "                        glob(os.path.join(x[0], '*rCBV*.nii')) or\n",
    "                        glob(os.path.join(x[0], '*Tmax*.nii')) or\n",
    "                        glob(os.path.join(x[0], '*TTP*.nii')) or\n",
    "                        glob(os.path.join(x[0], '*OT*.nii'))]\n"
   ]
  },
  {
   "cell_type": "code",
   "execution_count": 15,
   "metadata": {},
   "outputs": [],
   "source": [
    "#%% Resample images to same shape and voxel size\n",
    "#root = '../data_processed/' # linux\n",
    "root = '..\\data_processed\\\\' # windows\n",
    "# remove and create dir for processed data\n",
    "if os.path.exists(root): shutil.rmtree(root)\n",
    "os.mkdir(root)\n",
    "\n",
    "# load template image\n",
    "template = nib.load(channels_per_subject[0][0])\n",
    "\n",
    "for subject in channels_per_subject.keys():\n",
    "    # create subdirectory per subject\n",
    "    subject_root = os.path.join(root, str(subject))\n",
    "    os.mkdir(root + str(subject))\n",
    "\n",
    "    for channel_file in channels_per_subject[subject]:\n",
    "        img = nib.load(channel_file)\n",
    "        # Resample img to match template\n",
    "        resampled_img = resample_to_img(img,template)\n",
    "        # Save resampled image\n",
    "        file_name = os.path.basename(channel_file)\n",
    "        nib.save(resampled_img, os.path.join(subject_root, file_name) + '.gz')\n"
   ]
  },
  {
   "cell_type": "code",
   "execution_count": 16,
   "metadata": {},
   "outputs": [],
   "source": [
    "#%% Compute ROI mask (eg. brain mask) per subject\n",
    "for subject in sorted(os.listdir(root)):\n",
    "    # get all channels for subject\n",
    "    subject_root = os.path.join(root, str(subject))\n",
    "    # ignore label channel\n",
    "    imgs = [x for x in glob(os.path.join(subject_root,'*')) if not \"OT\" in x]\n",
    "    # compute subject brain mask given all channels\n",
    "    mask = compute_background_mask(imgs)\n",
    "    # save mask\n",
    "    nib.save(mask, os.path.join(subject_root, 'mask.nii.gz'))\n",
    "    "
   ]
  },
  {
   "cell_type": "code",
   "execution_count": 44,
   "metadata": {},
   "outputs": [
    {
     "data": {
      "text/plain": [
       "<nilearn.plotting.displays.OrthoSlicer at 0x147a3fd0>"
      ]
     },
     "execution_count": 44,
     "metadata": {},
     "output_type": "execute_result"
    },
    {
     "data": {
      "image/png": "[encoded data removed]",
      "text/plain": [
       "<matplotlib.figure.Figure at 0x123eb780>"
      ]
     },
     "metadata": {},
     "output_type": "display_data"
    }
   ],
   "source": [
    "#img = compute_background_mask('..\\\\data_processed\\\\9\\\\VSD.Brain.XX.O.MR_ADC.128029.nii.gz')\n",
    "img = compute_background_mask('..\\\\data\\\\Training\\\\training_19\\\\VSD.Brain.XX.O.MR_rCBF.127088\\\\VSD.Brain.XX.O.MR_rCBF.127088.nii')\n",
    "mask = compute_background_mask(img)\n",
    "plot_roi(None,img)"
   ]
  },
  {
   "cell_type": "code",
   "execution_count": null,
   "metadata": {},
   "outputs": [],
   "source": []
  },
  {
   "cell_type": "code",
   "execution_count": null,
   "metadata": {},
   "outputs": [],
   "source": [
    "#%% FULL - Resample images to same shape and voxel size\n",
    "root = '../data_processed/'\n",
    "# remove and create dir for processed data\n",
    "if os.path.exists(root): shutil.rmtree(root)\n",
    "os.mkdir(root)\n",
    "\n",
    "# load template image\n",
    "template = nib.load(channels_per_subject[0][0])\n",
    "\n",
    "for subject in channels_per_subject.keys():\n",
    "    # create subdirectory per subject\n",
    "    subject_root = root + str(subject) + '/'\n",
    "    os.mkdir(root + str(subject))\n",
    "    subject_imgs = []\n",
    "    for channel_file in channels_per_subject[subject]:\n",
    "        img = nib.load(channel_file)\n",
    "        # Resample img to match template\n",
    "        resampled_img = resample_to_img(img,template)\n",
    "        subject_imgs.append([resampled_img, channel_file])\n",
    "        \n",
    "    # compute subject brain mask given all channels\n",
    "    mask = compute_background_mask([x for x,y in subject_imgs])\n",
    "    # normalize each image and save\n",
    "    for img, channel_file in subject_imgs:\n",
    "        # normalize image within mask\n",
    "        norm_img = img\n",
    "        # save image\n",
    "        file_name = channel_file.split('/')[-1]\n",
    "        nib.save(norm_img, subject_root + file_name + '.gz' )\n"
   ]
  },
  {
   "cell_type": "code",
   "execution_count": null,
   "metadata": {},
   "outputs": [],
   "source": []
  }
 ],
 "metadata": {
  "kernelspec": {
   "display_name": "Python 2",
   "language": "python",
   "name": "python2"
  },
  "language_info": {
   "codemirror_mode": {
    "name": "ipython",
    "version": 2
   },
   "file_extension": ".py",
   "mimetype": "text/x-python",
   "name": "python",
   "nbconvert_exporter": "python",
   "pygments_lexer": "ipython2",
   "version": "2.7.15"
  }
 },
 "nbformat": 4,
 "nbformat_minor": 2
}
