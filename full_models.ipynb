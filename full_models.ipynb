{
 "cells": [
  {
   "cell_type": "code",
   "execution_count": null,
   "metadata": {},
   "outputs": [],
   "source": [
    "#%% Imports\n",
    "import os\n",
    "import shutil\n",
    "import nibabel as nib\n",
    "import numpy as np\n",
    "import random\n",
    "import pickle\n",
    "import matplotlib.pyplot as plt\n",
    "import matplotlib as mpl\n",
    "import scipy.stats as st\n",
    "import nilearn\n",
    "import pandas as pd\n",
    "\n",
    "from scipy.stats.stats import pearsonr\n",
    "from matplotlib.colors import colorConverter\n",
    "from glob import glob\n",
    "from scipy import ndimage\n",
    "from nilearn.image import resample_to_img, resample_img\n",
    "from nilearn.masking import compute_background_mask, compute_epi_mask\n",
    "from nilearn.plotting import plot_roi, plot_epi, plot_img, plot_anat\n",
    "from scipy.spatial.distance import directed_hausdorff\n",
    "from nipype.algorithms.metrics import Distance\n",
    "from sklearn.metrics import roc_curve, auc, f1_score, precision_recall_curve, average_precision_score\n",
    "from scipy import interp\n",
    "from itertools import chain\n",
    "from scipy.ndimage.morphology import binary_dilation, binary_erosion, binary_closing, binary_opening\n",
    "from skimage.morphology import cube, octahedron, ball"
   ]
  },
  {
   "cell_type": "code",
   "execution_count": null,
   "metadata": {},
   "outputs": [],
   "source": [
    "# Set working directory\n",
    "os.chdir('/home/uziel/DISS')\n",
    "test_flag = 1"
   ]
  },
  {
   "cell_type": "code",
   "execution_count": null,
   "metadata": {},
   "outputs": [],
   "source": [
    "def data_to_file(data, path):\n",
    "    out = open(path, \"w\")\n",
    "    for line in data:\n",
    "        print >> out, line\n",
    "    out.close()"
   ]
  },
  {
   "cell_type": "code",
   "execution_count": null,
   "metadata": {},
   "outputs": [],
   "source": [
    "if test_flag:\n",
    "    root = './data_processed/ISLES2017/testing'\n",
    "else:\n",
    "    root = './data_processed/ISLES2017/training'\n",
    "\n",
    "channels = {}\n",
    "# channels - sequences os.path.join('../../../../../../', x) needed for deepmedic\n",
    "channels['Channels_ADC'] = sorted([os.path.join('../../../../../../', y)\n",
    "                                   for x in os.walk(root)\n",
    "                                   for y in glob(os.path.join(x[0], '*ADC*.nii.gz'))\n",
    "                                  ])\n",
    "channels['Channels_MTT'] = sorted([os.path.join('../../../../../../', y)\n",
    "                                   for x in os.walk(root)\n",
    "                                   for y in glob(os.path.join(x[0], '*MTT*.nii.gz'))\n",
    "                                  ])\n",
    "channels['Channels_rCBF'] = sorted([os.path.join('../../../../../../', y)\n",
    "                                    for x in os.walk(root)\n",
    "                                    for y in glob(os.path.join(x[0], '*rCBF*.nii.gz'))\n",
    "                                  ])\n",
    "channels['Channels_rCBV'] = sorted([os.path.join('../../../../../../', y)\n",
    "                                    for x in os.walk(root)\n",
    "                                    for y in glob(os.path.join(x[0], '*rCBV*.nii.gz'))\n",
    "                                  ])\n",
    "channels['Channels_Tmax'] = sorted([os.path.join('../../../../../../', y)\n",
    "                                    for x in os.walk(root)\n",
    "                                    for y in glob(os.path.join(x[0], '*Tmax*.nii.gz'))\n",
    "                                  ])\n",
    "channels['Channels_TTP'] = sorted([os.path.join('../../../../../../', y)\n",
    "                                   for x in os.walk(root)\n",
    "                                   for y in glob(os.path.join(x[0], '*TTP*.nii.gz'))\n",
    "                                  ])\n",
    "# labels\n",
    "channels['GtLabels'] = sorted([os.path.join('../../../../../../', y)\n",
    "                               for x in os.walk(root)\n",
    "                               for y in glob(os.path.join(x[0], '*OT*.nii.gz'))\n",
    "                              ])\n",
    "# masks\n",
    "channels['RoiMasks'] = sorted([os.path.join('../../../../../../', y)\n",
    "                               for x in os.walk(root)\n",
    "                               for y in glob(os.path.join(x[0], '*mask.nii.gz'))\n",
    "                              ])"
   ]
  },
  {
   "cell_type": "code",
   "execution_count": null,
   "metadata": {},
   "outputs": [],
   "source": [
    "#############################################\n",
    "##### FILES FOR DM_VF (AUGMENTED DATA) ######\n",
    "#############################################\n",
    "if test_flag:\n",
    "    data_set = 'test'\n",
    "else:\n",
    "    data_set = 'train'\n",
    "\n",
    "s_path = './ischleseg/deepmedic/versions/DM_VF'\n",
    "data_set_path = os.path.join(s_path, 'configFiles/' + data_set)\n",
    "\n",
    "for name, files in channels.iteritems():\n",
    "    # save train channel files\n",
    "    data_to_file(files, os.path.join(data_set_path, data_set + name + '.cfg'))\n",
    "    \n",
    "if test_flag:\n",
    "    names = ['SMIR.ischleseg_' + 'DM_VF' + '.' + os.path.basename(x).split('.')[-3]\n",
    "             for x in channels['Channels_MTT']]\n",
    "    data_to_file(names, os.path.join(data_set_path, 'testNamesOfPredictions.cfg'))"
   ]
  },
  {
   "cell_type": "markdown",
   "metadata": {},
   "source": [
    "**MANAGE PREDICTED SEGMENTATIONS**"
   ]
  },
  {
   "cell_type": "code",
   "execution_count": null,
   "metadata": {},
   "outputs": [],
   "source": [
    "root = '/media/uziel/Pulga2/DISS/milestones_6/DM_VF'\n",
    "root_data = './data/ISLES2017/testing'\n",
    "\n",
    "\n",
    "channels = {}\n",
    "channels['Channels_MTT'] = sorted([y\n",
    "                                   for x in os.walk(root_data)\n",
    "                                   for y in glob(os.path.join(x[0], '*MTT*.nii'))\n",
    "                                  ])\n",
    "\n",
    "# List predictions\n",
    "predictions = [x for x in sorted(os.listdir(os.path.join(root, 'output/predictions/testSession/predictions/'))) if 'Segm' in x]\n",
    "\n",
    "# Define structure for closing operation\n",
    "struct = ball(3)"
   ]
  },
  {
   "cell_type": "code",
   "execution_count": null,
   "metadata": {},
   "outputs": [],
   "source": [
    "for pred in predictions:\n",
    "    # Load prediction\n",
    "    img = nib.load(os.path.join(os.path.join(root,\n",
    "                                             'output/predictions/testSession/predictions/'),\n",
    "                                pred))\n",
    "    \n",
    "    # Upsample prediction\n",
    "    code = pred.split('.')[-3].split('_')[-2]\n",
    "    original = [x for x in channels['Channels_MTT'] if code in x][0]\n",
    "    original_img = nib.load(original)\n",
    "    pred_img = resample_img(img,\n",
    "                            original_img.affine,\n",
    "                            original_img.shape,\n",
    "                            interpolation='nearest')\n",
    "    \n",
    "    # Apply closing operation\n",
    "    data = binary_closing(pred_img.get_data(), struct, iterations=2)\n",
    "    \n",
    "    # Save prediction\n",
    "    nib.save(nib.Nifti1Image(data.astype(np.uint8), original_img.affine),\n",
    "             os.path.join(root, 'output/predictions/') + 'SMIR.ishleseg_VF.' + code + '.nii')    \n",
    "    "
   ]
  },
  {
   "cell_type": "code",
   "execution_count": null,
   "metadata": {},
   "outputs": [],
   "source": []
  }
 ],
 "metadata": {
  "kernelspec": {
   "display_name": "Python 2",
   "language": "python",
   "name": "python2"
  },
  "language_info": {
   "codemirror_mode": {
    "name": "ipython",
    "version": 2
   },
   "file_extension": ".py",
   "mimetype": "text/x-python",
   "name": "python",
   "nbconvert_exporter": "python",
   "pygments_lexer": "ipython2",
   "version": "2.7.15"
  }
 },
 "nbformat": 4,
 "nbformat_minor": 2
}
